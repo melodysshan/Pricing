{
 "cells": [
  {
   "cell_type": "code",
   "execution_count": 1,
   "metadata": {},
   "outputs": [],
   "source": [
    "import numpy as np\n",
    "import pandas as pd"
   ]
  },
  {
   "cell_type": "code",
   "execution_count": 2,
   "metadata": {},
   "outputs": [],
   "source": [
    "def weekn_test(week_list, price_list, simulation, inventory_):\n",
    "    revenue_list = []\n",
    "    inventory_list = []\n",
    "    \n",
    "    for s in range(simulation):\n",
    "        inventory = inventory_.copy()\n",
    "        revenue = 0\n",
    "\n",
    "        for i in range(len(week_list)):\n",
    "            week = week_list[i]\n",
    "            price = price_list[i]\n",
    "            \n",
    "            if week < 8:\n",
    "                traffic = round(np.random.normal(loc=1000, scale=250)) #round? int? ceil?\n",
    "            else:\n",
    "                traffic = round(np.random.normal(loc=2000, scale=500))     \n",
    "\n",
    "            for i in range(traffic):\n",
    "                if np.random.random()>=(1/50):\n",
    "                    continue\n",
    "                else:\n",
    "                    choice = np.random.randint(0,3)\n",
    "\n",
    "                if inventory[choice] == 0: #2nd choice\n",
    "                    random = np.random.random()\n",
    "                    if random>=0.4: #Is it possible that customers will not change their choices?\n",
    "                        continue \n",
    "                    elif random>=0.3:\n",
    "                        choice = (choice-1)%3\n",
    "                    else:\n",
    "                        if choice == 2:\n",
    "                            continue\n",
    "                        else:\n",
    "                            choice += 1\n",
    "                \n",
    "                if inventory[choice] == 0:\n",
    "                    continue\n",
    "\n",
    "                if week < 6:\n",
    "                    wtp = np.random.uniform(0,1000)\n",
    "                else:\n",
    "                    wtp = np.random.uniform(0,600)\n",
    "\n",
    "                if wtp >= price:\n",
    "                    inventory[choice] = inventory[choice]-1\n",
    "                    revenue += price\n",
    "                \n",
    "            if inventory == [0, 0, 0]:\n",
    "                break    \n",
    "        revenue_list.append(revenue)\n",
    "        inventory_list.append(inventory)\n",
    "    average_revenue = sum(revenue_list) / len(revenue_list)\n",
    "    inventory_df = pd.DataFrame(inventory_list)\n",
    "    average_inventory = inventory_df.mean(axis=0).tolist()\n",
    "    average_int_inventory = list(map(int,average_inventory))\n",
    "    return average_revenue, average_int_inventory"
   ]
  },
  {
   "cell_type": "code",
   "execution_count": 3,
   "metadata": {},
   "outputs": [],
   "source": [
    "def project_test(startweek, inventory_):\n",
    "    price_choice = range(99,1000,100)\n",
    "    week_list = []\n",
    "    price_list = []\n",
    "    inventory = inventory_.copy()\n",
    "    for i in range(10-startweek):\n",
    "        week_list.insert(0,9-i)\n",
    "        revenue_list = []\n",
    "        price_list.insert(0,0)\n",
    "        for price in price_choice:\n",
    "            price_list[0] = price\n",
    "            r,i = weekn_test(week_list,price_list,1000,inventory)\n",
    "            revenue_list.append(r)\n",
    "        max_index = revenue_list.index(max(revenue_list))\n",
    "        max_price = price_choice[max_index]\n",
    "        price_list[0] = max_price\n",
    "        print(max_price)\n",
    "    return max(revenue_list), price_list"
   ]
  },
  {
   "cell_type": "code",
   "execution_count": 4,
   "metadata": {},
   "outputs": [
    {
     "name": "stdout",
     "output_type": "stream",
     "text": [
      "299\n",
      "299\n",
      "399\n",
      "399\n",
      "699\n",
      "699\n",
      "699\n",
      "599\n",
      "699\n",
      "699\n"
     ]
    },
    {
     "data": {
      "text/plain": [
       "(27925.2, [699, 699, 599, 699, 699, 699, 399, 399, 299, 299])"
      ]
     },
     "execution_count": 4,
     "metadata": {},
     "output_type": "execute_result"
    }
   ],
   "source": [
    "project_test(0,[15,15,15])"
   ]
  },
  {
   "cell_type": "code",
   "execution_count": 5,
   "metadata": {},
   "outputs": [
    {
     "name": "stdout",
     "output_type": "stream",
     "text": [
      "299\n",
      "399\n",
      "399\n",
      "399\n",
      "699\n",
      "699\n",
      "699\n",
      "699\n",
      "699\n"
     ]
    },
    {
     "data": {
      "text/plain": [
       "(24255.015, [699, 699, 699, 699, 699, 399, 399, 399, 299])"
      ]
     },
     "execution_count": 5,
     "metadata": {},
     "output_type": "execute_result"
    }
   ],
   "source": [
    "project_test(1,[12,13,14])"
   ]
  },
  {
   "cell_type": "code",
   "execution_count": 6,
   "metadata": {},
   "outputs": [
    {
     "name": "stdout",
     "output_type": "stream",
     "text": [
      "299\n",
      "399\n",
      "399\n",
      "399\n",
      "699\n",
      "699\n",
      "699\n",
      "699\n"
     ]
    },
    {
     "data": {
      "text/plain": [
       "(19712.702, [699, 699, 699, 699, 399, 399, 399, 299])"
      ]
     },
     "execution_count": 6,
     "metadata": {},
     "output_type": "execute_result"
    }
   ],
   "source": [
    "project_test(2,[9,11,12])"
   ]
  },
  {
   "cell_type": "code",
   "execution_count": 7,
   "metadata": {},
   "outputs": [
    {
     "name": "stdout",
     "output_type": "stream",
     "text": [
      "299\n",
      "399\n",
      "499\n",
      "499\n",
      "699\n",
      "699\n",
      "699\n"
     ]
    },
    {
     "data": {
      "text/plain": [
       "(16508.407, [699, 699, 699, 499, 499, 399, 299])"
      ]
     },
     "execution_count": 7,
     "metadata": {},
     "output_type": "execute_result"
    }
   ],
   "source": [
    "project_test(3,[8,9,10])"
   ]
  },
  {
   "cell_type": "code",
   "execution_count": 8,
   "metadata": {},
   "outputs": [
    {
     "name": "stdout",
     "output_type": "stream",
     "text": [
      "299\n",
      "399\n",
      "399\n",
      "499\n",
      "699\n",
      "699\n"
     ]
    },
    {
     "data": {
      "text/plain": [
       "(14590.52, [699, 699, 499, 399, 399, 299])"
      ]
     },
     "execution_count": 8,
     "metadata": {},
     "output_type": "execute_result"
    }
   ],
   "source": [
    "project_test(4,[8,9,10])"
   ]
  },
  {
   "cell_type": "code",
   "execution_count": 9,
   "metadata": {},
   "outputs": [
    {
     "name": "stdout",
     "output_type": "stream",
     "text": [
      "399\n",
      "499\n",
      "499\n",
      "499\n",
      "699\n"
     ]
    },
    {
     "data": {
      "text/plain": [
       "(9768.756, [699, 499, 499, 499, 399])"
      ]
     },
     "execution_count": 9,
     "metadata": {},
     "output_type": "execute_result"
    }
   ],
   "source": [
    "project_test(5,[6,3,9])"
   ]
  },
  {
   "cell_type": "code",
   "execution_count": 10,
   "metadata": {},
   "outputs": [
    {
     "name": "stdout",
     "output_type": "stream",
     "text": [
      "399\n",
      "499\n",
      "499\n",
      "499\n"
     ]
    },
    {
     "data": {
      "text/plain": [
       "(3908.43, [499, 499, 499, 399])"
      ]
     },
     "execution_count": 10,
     "metadata": {},
     "output_type": "execute_result"
    }
   ],
   "source": [
    "project_test(6,[3,0,5])"
   ]
  },
  {
   "cell_type": "code",
   "execution_count": 11,
   "metadata": {},
   "outputs": [
    {
     "name": "stdout",
     "output_type": "stream",
     "text": [
      "399\n",
      "499\n",
      "499\n"
     ]
    },
    {
     "data": {
      "text/plain": [
       "(3362.636, [499, 499, 399])"
      ]
     },
     "execution_count": 11,
     "metadata": {},
     "output_type": "execute_result"
    }
   ],
   "source": [
    "project_test(7,[3,0,4])"
   ]
  },
  {
   "cell_type": "code",
   "execution_count": 12,
   "metadata": {},
   "outputs": [
    {
     "name": "stdout",
     "output_type": "stream",
     "text": [
      "499\n",
      "499\n"
     ]
    },
    {
     "data": {
      "text/plain": [
       "(2410.669, [499, 499])"
      ]
     },
     "execution_count": 12,
     "metadata": {},
     "output_type": "execute_result"
    }
   ],
   "source": [
    "project_test(8,[2,0,3])"
   ]
  },
  {
   "cell_type": "code",
   "execution_count": 13,
   "metadata": {},
   "outputs": [
    {
     "name": "stdout",
     "output_type": "stream",
     "text": [
      "99\n"
     ]
    },
    {
     "data": {
      "text/plain": [
       "(0.0, [99])"
      ]
     },
     "execution_count": 13,
     "metadata": {},
     "output_type": "execute_result"
    }
   ],
   "source": [
    "project_test(9,[0,0,0])"
   ]
  }
 ],
 "metadata": {
  "kernelspec": {
   "display_name": "Python 3",
   "language": "python",
   "name": "python3"
  },
  "language_info": {
   "codemirror_mode": {
    "name": "ipython",
    "version": 3
   },
   "file_extension": ".py",
   "mimetype": "text/x-python",
   "name": "python",
   "nbconvert_exporter": "python",
   "pygments_lexer": "ipython3",
   "version": "3.8.5"
  }
 },
 "nbformat": 4,
 "nbformat_minor": 4
}
